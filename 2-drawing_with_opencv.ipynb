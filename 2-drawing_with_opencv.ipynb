{
 "cells": [
  {
   "cell_type": "markdown",
   "metadata": {},
   "source": [
    "En este tutorial, aprenderá a utilizar las funciones básicas de dibujo de OpenCV. Aprenderá a usar OpenCV para dibujar:\n",
    "\n",
    "- Líneas\n",
    "- Rectángulos\n",
    "- Circulos\n",
    "\n",
    "También aprenderá a usar OpenCV para dibujar en imágenes y matrices vacías / en blanco inicializadas con NumPy."
   ]
  },
  {
   "cell_type": "markdown",
   "metadata": {},
   "source": [
    "### Funciones de dibujo en OpenCV"
   ]
  },
  {
   "cell_type": "markdown",
   "metadata": {},
   "source": [
    "OpenCV tiene una serie de funciones de dibujo que puede usar para dibujar varias formas, incluidos polígonos de formas irregulares, pero las tres funciones de dibujo de OpenCV más comunes que verá son:\n",
    "\n",
    "- cv2.line: Dibuja una línea en la imagen, a partir de una especifica coordenada (x, y)  y terminando en otra (x1, y1) \n",
    "- cv2.circle: Dibuja un círculo en una imagen especificada por la coordenada central (x, y) y un radio proporcionado\n",
    "- cv2.rectangle: Dibuja un rectángulo en una imagen especificada por la esquina superior izquierda  y la esquina inferior derecha\n",
    "\n",
    "Sin embargo, vale la pena señalar que existen funciones de dibujo OpenCV más avanzadas, que incluyen:\n",
    "\n",
    "- cv2.ellipse: Dibuja una elipse en una imagen\n",
    "- cv2.polylines: Dibuja el contorno de un polígono especificado por un conjunto de coordenadas (x, y)\n",
    "- cv2.fillPoly: Dibuja un polígono, pero en lugar de dibujar el contorno, rellena el polígono\n",
    "- cv2.arrowedLine: Llama una flecha que apunta desde una coordenada de partida (x, y)  a una  coordenadafinal (x1, y1) "
   ]
  },
  {
   "cell_type": "code",
   "execution_count": 2,
   "metadata": {},
   "outputs": [],
   "source": [
    "import numpy as np\n",
    "import cv2"
   ]
  },
  {
   "cell_type": "code",
   "execution_count": 2,
   "metadata": {},
   "outputs": [],
   "source": [
    "#inicializo imagen de 300x300 pixeles y 3 canales  RGB con fondo negro. Uint8 es entereo de 8 bits sin signo para poder representar valores de 0 a 255\n",
    "canvas = np.zeros((300,300,3),dtype='uint8')"
   ]
  },
  {
   "cell_type": "markdown",
   "metadata": {},
   "source": [
    "### DIBUJAR LINEAS"
   ]
  },
  {
   "cell_type": "code",
   "execution_count": 3,
   "metadata": {},
   "outputs": [],
   "source": [
    "#dibujar una linea verde desde la esquina superior izquierda a la esquina inferior derecha\n",
    "\n",
    "green = (0,255,0)\n",
    "\n",
    "cv2.line(canvas,(0,0),(300,300),green)\n",
    "cv2.imshow('imagen con linea',canvas)\n",
    "cv2.waitKey(0)\n",
    "cv2.destroyAllWindows()\n"
   ]
  },
  {
   "cell_type": "code",
   "execution_count": 4,
   "metadata": {},
   "outputs": [],
   "source": [
    "# dibujar linea roja de esquina superior derecha a inferior izquierda con espesor de 3 pixeles\n",
    "red = (0, 0, 255)\n",
    "cv2.line(canvas, (300, 0), (0, 300), red, 3)\n",
    "cv2.imshow(\"Canvas\", canvas)\n",
    "cv2.waitKey(0)\n",
    "cv2.destroyAllWindows()"
   ]
  },
  {
   "cell_type": "markdown",
   "metadata": {},
   "source": [
    "### DIBUJAR RECTANGULOS"
   ]
  },
  {
   "cell_type": "code",
   "execution_count": 5,
   "metadata": {},
   "outputs": [
    {
     "data": {
      "text/plain": [
       "-1"
      ]
     },
     "execution_count": 5,
     "metadata": {},
     "output_type": "execute_result"
    }
   ],
   "source": [
    "#Dibujar rectangulos\n",
    "color=(120,35,200)\n",
    "cv2.rectangle(canvas,(0,0),(100,50),color,thickness=3)\n",
    "cv2.rectangle(canvas,(200,120),(290,290),color,-1)# con -1 relleno el rectangulo\n",
    "cv2.imshow(\"Rectangulos\", canvas)\n",
    "cv2.waitKey(0)\n",
    "cv2.destroyAllWindows()\n"
   ]
  },
  {
   "cell_type": "markdown",
   "metadata": {},
   "source": [
    "### DIBUJAR CIRCULOS"
   ]
  },
  {
   "cell_type": "code",
   "execution_count": 6,
   "metadata": {},
   "outputs": [
    {
     "data": {
      "text/plain": [
       "-1"
      ]
     },
     "execution_count": 6,
     "metadata": {},
     "output_type": "execute_result"
    }
   ],
   "source": [
    "#volvamos a dejar en negro el canvas\n",
    "canvas = np.zeros((300,300,3),dtype='uint8')\n",
    "(cx,cy)=(canvas.shape[1]//2 , canvas.shape[0]//2) #obtenemos el centro de la imagen\n",
    "blanco= (255,255,255)\n",
    "\n",
    "for r in range(0,200,20):# dibujamos 10 circulos b\n",
    "    cv2.circle(canvas,(cy,cx),r,blanco,2)\n",
    "cv2.imshow(\"Circulos\", canvas)\n",
    "cv2.waitKey(0)\n",
    "cv2.destroyAllWindows()\n"
   ]
  },
  {
   "cell_type": "code",
   "execution_count": 9,
   "metadata": {},
   "outputs": [],
   "source": [
    "\n",
    "canvas = np.zeros((300, 300, 3), dtype=\"uint8\")\n",
    "# dibujamos 25 circulos\n",
    "for i in range(0, 25):\n",
    "\t# randomly generate a radius size between 5 and 200, generate a\n",
    "\t# random color, and then pick a random point on our canvas where\n",
    "\t# the circle will be drawn\n",
    "\tradius = np.random.randint(5, high=200)#gebero un radio aleatorio entre 5 y 200\n",
    "\tcolor = np.random.randint(0, high=256, size=(3,)).tolist() #genero color aleatorio entre 0 y 255 para cada canal\n",
    "\tpt = np.random.randint(0, high=300, size=(2,)) #genero punto x e y aleatorio para el centro donde se dibujara el circulo\n",
    "\t# draw our random circle on the canvas\n",
    "\tcv2.circle(canvas, tuple(pt), radius, color, -1)\n",
    "# display our masterpiece to our screen\n",
    "cv2.imshow(\"Canvas\", canvas)\n",
    "cv2.waitKey(0)\n",
    "cv2.destroyAllWindows()"
   ]
  },
  {
   "cell_type": "code",
   "execution_count": 4,
   "metadata": {},
   "outputs": [],
   "source": [
    "#dibujando en imagen cargada\n",
    "image2 = cv2.imread('images/dog.1001.jpg')\n",
    "cv2.rectangle(image2,(20,50),(100,200),(0,0,255),5)\n",
    "cv2.imshow(\"rectangulo en perro\", image2)\n",
    "cv2.waitKey(0)\n",
    "cv2.destroyAllWindows()"
   ]
  }
 ],
 "metadata": {
  "interpreter": {
   "hash": "a5b1ca146a2b6c1dad98eb34c68ce0978784e2a044fb88d9a2019968fdd7143a"
  },
  "kernelspec": {
   "display_name": "Python 3.9.7 64-bit ('ambienteML': conda)",
   "language": "python",
   "name": "python3"
  },
  "language_info": {
   "codemirror_mode": {
    "name": "ipython",
    "version": 3
   },
   "file_extension": ".py",
   "mimetype": "text/x-python",
   "name": "python",
   "nbconvert_exporter": "python",
   "pygments_lexer": "ipython3",
   "version": "3.9.7"
  },
  "orig_nbformat": 4
 },
 "nbformat": 4,
 "nbformat_minor": 2
}
