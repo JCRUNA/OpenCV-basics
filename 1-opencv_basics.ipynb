{
 "cells": [
  {
   "cell_type": "code",
   "execution_count": 2,
   "metadata": {},
   "outputs": [],
   "source": [
    "import cv2"
   ]
  },
  {
   "cell_type": "code",
   "execution_count": 3,
   "metadata": {},
   "outputs": [],
   "source": [
    "# leo la imagen\n",
    "image = cv2.imread('images/cat.1013.jpg')"
   ]
  },
  {
   "cell_type": "code",
   "execution_count": 4,
   "metadata": {},
   "outputs": [
    {
     "name": "stdout",
     "output_type": "stream",
     "text": [
      "----Datos de la imagen---\n",
      "ancho de 480\n",
      "alto de 500\n",
      "ancho de 3\n"
     ]
    }
   ],
   "source": [
    "#obtengo ancho, alto y nro de canales\n",
    "w,h,c=image.shape[:3]\n",
    "print( '----Datos de la imagen---')\n",
    "print('ancho de {}'.format(w))\n",
    "print('alto de {}'.format(h))\n",
    "print('ancho de {}'.format(c))\n",
    "\n"
   ]
  },
  {
   "cell_type": "code",
   "execution_count": 4,
   "metadata": {},
   "outputs": [
    {
     "data": {
      "text/plain": [
       "27"
      ]
     },
     "execution_count": 4,
     "metadata": {},
     "output_type": "execute_result"
    }
   ],
   "source": [
    "#muestro la imagen y espero a que se presione alguna tecla.\n",
    "cv2.imshow(\"Imagen\",image)\n",
    "cv2.waitKey(0)"
   ]
  },
  {
   "cell_type": "code",
   "execution_count": 5,
   "metadata": {},
   "outputs": [
    {
     "data": {
      "text/plain": [
       "True"
      ]
     },
     "execution_count": 5,
     "metadata": {},
     "output_type": "execute_result"
    }
   ],
   "source": [
    "#guardar imagen en disco\n",
    "cv2.imwrite('images/catshow.jpg',image)"
   ]
  },
  {
   "cell_type": "markdown",
   "metadata": {},
   "source": [
    "#### ACCEDIENDO A LOS VALORES LOS PIXELES R G B DE LA IMAGEN"
   ]
  },
  {
   "cell_type": "markdown",
   "metadata": {},
   "source": [
    "La mayoría de los píxeles se representan de dos formas:\n",
    "\n",
    "Escala de grises(1 solo canal) /Color(3 canales)\n",
    "- En una imagen en escala de grises, cada píxel tiene un valor entre 0 y 255, donde 0 corresponde a \"negro\" y 255 a \"blanco\". Los valores entre 0 y 255 son diferentes tonos de gris, donde los valores más cercanos a 0 son más oscuros y los valores más cercanos a 255 son más claros.\n",
    "- Sin embargo, los píxeles de color se representan normalmente en el espacio de color RGB: un valor para el componente rojo, uno para el verde y otro para el azul, lo que da como resultado un total de 3 valores por píxel"
   ]
  },
  {
   "cell_type": "markdown",
   "metadata": {},
   "source": [
    "Una imagen se representa como una cuadrícula de píxeles. Imagina nuestra cuadrícula como una hoja de papel cuadriculado. Usando este papel cuadriculado, el punto (0, 0) corresponde a la esquina superior izquierda de la imagen (es decir, el origen ). A medida que nos movemos hacia abajo y hacia la derecha , tanto la coordenada x como la y aumentan.\n",
    "\n",
    "Las imágenes OpenCV tienen un índice cero, donde los valores x van de izquierda a derecha (número de columna) y los valores y van de arriba hacia abajo (número de fila)."
   ]
  },
  {
   "cell_type": "code",
   "execution_count": 27,
   "metadata": {},
   "outputs": [
    {
     "name": "stdout",
     "output_type": "stream",
     "text": [
      "Los valores del pixel en 0,0 son: rojo 79 , verde: 149 , azul: 24\n"
     ]
    }
   ],
   "source": [
    "(h, w) = image.shape[:2] #alto x ancho\n",
    "\n",
    "#en OpenCV el formato estandar de imagenes a color es BGR en lugar de RGB como estamos acostumbrados\n",
    "b,g,r=image[0,0] #valor de intensidad de pixeles en la esquina superior izquierda\n",
    "print('Los valores del pixel en 0,0 son: rojo {} , verde: {} , azul: {}'.format(r,g,b))"
   ]
  },
  {
   "cell_type": "code",
   "execution_count": 29,
   "metadata": {},
   "outputs": [
    {
     "name": "stdout",
     "output_type": "stream",
     "text": [
      "Los valores del pixel en 20,50 son: rojo 255 , verde: 0 , azul: 0\n"
     ]
    }
   ],
   "source": [
    "##Acceder al pixel ubicando en x=50 e y=20. x aqui representa la columna e y la fila por lo tanto debemos pasar primero y \n",
    "b,g,r = image[20,50] #primero va y\n",
    "print('Los valores del pixel en 20,50 son: rojo {} , verde: {} , azul: {}'.format(r,g,b))"
   ]
  },
  {
   "cell_type": "code",
   "execution_count": 30,
   "metadata": {},
   "outputs": [
    {
     "name": "stdout",
     "output_type": "stream",
     "text": [
      "Los valores actualizados del pixel en 20,50 son: rojo 255 , verde: 0 , azul: 0\n"
     ]
    }
   ],
   "source": [
    "#asignamos el valor rojo en la posicion x=50 e y=20\n",
    "image[20,50] = (0,0,255) #BGR\n",
    "b,g,r = image[20,50]\n",
    "print('Los valores actualizados del pixel en 20,50 son: rojo {} , verde: {} , azul: {}'.format(r,g,b))"
   ]
  },
  {
   "cell_type": "code",
   "execution_count": 31,
   "metadata": {},
   "outputs": [],
   "source": [
    "#calcular el centro de la image. \n",
    "(cx,cy)=(w//2,h//2) "
   ]
  },
  {
   "cell_type": "markdown",
   "metadata": {},
   "source": [
    "Una imagen al ser una matriz podemos usar la libreria numpy para acceder a sus pixeles, ya se un pixel individual o una porcion de la imagen a traves del slicing"
   ]
  },
  {
   "cell_type": "code",
   "execution_count": 32,
   "metadata": {},
   "outputs": [
    {
     "data": {
      "text/plain": [
       "-1"
      ]
     },
     "execution_count": 32,
     "metadata": {},
     "output_type": "execute_result"
    }
   ],
   "source": [
    "tl = image[0:cy,0:cx]\n",
    "cv2.imshow('porcion superior izquierda',tl)\n",
    "cv2.waitKey(0)\n",
    "cv2.destroyAllWindows()\n"
   ]
  },
  {
   "cell_type": "code",
   "execution_count": 33,
   "metadata": {},
   "outputs": [
    {
     "data": {
      "text/plain": [
       "-1"
      ]
     },
     "execution_count": 33,
     "metadata": {},
     "output_type": "execute_result"
    }
   ],
   "source": [
    "tr=image[0:cy,cx:w]\n",
    "cv2.imshow('porcion superior derecha',tr)\n",
    "cv2.waitKey(0)\n",
    "cv2.destroyAllWindows()\n"
   ]
  },
  {
   "cell_type": "code",
   "execution_count": 34,
   "metadata": {},
   "outputs": [
    {
     "data": {
      "text/plain": [
       "-1"
      ]
     },
     "execution_count": 34,
     "metadata": {},
     "output_type": "execute_result"
    }
   ],
   "source": [
    "bl=image[cy:h,:cx]\n",
    "cv2.imshow('porcion inferior izquierda',bl)\n",
    "cv2.waitKey(0)\n",
    "cv2.destroyAllWindows()\n"
   ]
  },
  {
   "cell_type": "code",
   "execution_count": 35,
   "metadata": {},
   "outputs": [
    {
     "data": {
      "text/plain": [
       "-1"
      ]
     },
     "execution_count": 35,
     "metadata": {},
     "output_type": "execute_result"
    }
   ],
   "source": [
    "br=image[cy:h,cx:w]\n",
    "cv2.imshow('porcion inferior derecha',br)\n",
    "cv2.waitKey(0)\n",
    "cv2.destroyAllWindows()\n"
   ]
  },
  {
   "cell_type": "markdown",
   "metadata": {},
   "source": [
    "Por ultimo hagamos un corte de una porcion de la imagen y cambiemosle el color"
   ]
  },
  {
   "cell_type": "code",
   "execution_count": 36,
   "metadata": {},
   "outputs": [
    {
     "data": {
      "text/plain": [
       "-1"
      ]
     },
     "execution_count": 36,
     "metadata": {},
     "output_type": "execute_result"
    }
   ],
   "source": [
    "image[cy:h,cx:w] = (125,125,125)\n",
    "\n",
    "cv2.imshow('imagen modificada',image)\n",
    "cv2.waitKey(0)\n",
    "cv2.destroyAllWindows()\n"
   ]
  }
 ],
 "metadata": {
  "interpreter": {
   "hash": "a5b1ca146a2b6c1dad98eb34c68ce0978784e2a044fb88d9a2019968fdd7143a"
  },
  "kernelspec": {
   "display_name": "Python 3.9.7 64-bit ('ambienteML': conda)",
   "language": "python",
   "name": "python3"
  },
  "language_info": {
   "codemirror_mode": {
    "name": "ipython",
    "version": 3
   },
   "file_extension": ".py",
   "mimetype": "text/x-python",
   "name": "python",
   "nbconvert_exporter": "python",
   "pygments_lexer": "ipython3",
   "version": "3.9.7"
  },
  "orig_nbformat": 4
 },
 "nbformat": 4,
 "nbformat_minor": 2
}
